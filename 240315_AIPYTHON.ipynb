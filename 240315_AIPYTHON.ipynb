{
  "nbformat": 4,
  "nbformat_minor": 0,
  "metadata": {
    "colab": {
      "provenance": []
    },
    "kernelspec": {
      "name": "python3",
      "display_name": "Python 3"
    },
    "language_info": {
      "name": "python"
    }
  },
  "cells": [
    {
      "cell_type": "markdown",
      "source": [
        "두수를 입력받아서 합을 출력하는 프로그램"
      ],
      "metadata": {
        "id": "Gq3xy2ZQ_4cR"
      }
    },
    {
      "cell_type": "code",
      "execution_count": 3,
      "metadata": {
        "colab": {
          "base_uri": "https://localhost:8080/"
        },
        "id": "wPReQyAF-dmB",
        "outputId": "f3452fe9-7b3b-46b6-f1f2-f5b637c9e2cb"
      },
      "outputs": [
        {
          "output_type": "stream",
          "name": "stdout",
          "text": [
            "두 정수를 입력하세요 (띄어쓰기로 구분): 1 2\n",
            "두 정수의 합은: 3\n"
          ]
        }
      ],
      "source": [
        "A, B = map(int, input(\"두 정수를 입력하세요 (띄어쓰기로 구분): \").split())\n",
        "sum = A + B\n",
        "print(\"두 정수의 합은:\", sum)\n"
      ]
    },
    {
      "cell_type": "code",
      "source": [
        "print(\"hello python\")"
      ],
      "metadata": {
        "colab": {
          "base_uri": "https://localhost:8080/"
        },
        "id": "RzH-RJXs_eTR",
        "outputId": "8ab901e3-a397-45ba-f593-915c4efd176f"
      },
      "execution_count": 4,
      "outputs": [
        {
          "output_type": "stream",
          "name": "stdout",
          "text": [
            "hello python\n"
          ]
        }
      ]
    },
    {
      "cell_type": "code",
      "source": [],
      "metadata": {
        "id": "lYvIWFb3_lFY"
      },
      "execution_count": null,
      "outputs": []
    }
  ]
}